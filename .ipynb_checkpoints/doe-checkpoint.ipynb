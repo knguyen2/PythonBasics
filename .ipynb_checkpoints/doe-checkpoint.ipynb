{
 "cells": [
  {
   "cell_type": "code",
   "execution_count": 26,
   "metadata": {},
   "outputs": [],
   "source": [
    "import pandas as pd\n"
   ]
  },
  {
   "cell_type": "code",
   "execution_count": 27,
   "metadata": {},
   "outputs": [],
   "source": [
    "sol = pd.read_csv('data/2017-2018-school-test-by-test.csv')"
   ]
  },
  {
   "cell_type": "code",
   "execution_count": 28,
   "metadata": {},
   "outputs": [
    {
     "name": "stdout",
     "output_type": "stream",
     "text": [
      "<class 'pandas.core.frame.DataFrame'>\n",
      "RangeIndex: 19202 entries, 0 to 19201\n",
      "Data columns (total 17 columns):\n",
      "LEVEL                      19202 non-null object\n",
      "Div Num                    19202 non-null int64\n",
      "Div Name                   19202 non-null object\n",
      "Sch Num                    19202 non-null int64\n",
      "Sch Name                   19202 non-null object\n",
      "Sch Type                   19202 non-null object\n",
      "Low Grade                  19202 non-null object\n",
      "High Grade                 19202 non-null int64\n",
      "Subject                    19202 non-null object\n",
      "Grade                      19202 non-null object\n",
      "Test                       19202 non-null object\n",
      "2015-2016 Pass Rate        18386 non-null object\n",
      "2016-2017 Pass Rate        18305 non-null object\n",
      "2017-2018 Pass Rate        18340 non-null object\n",
      "2015-2016 Adv Pass Rate    18386 non-null object\n",
      "2016-2017 Adv Pass Rate    18305 non-null object\n",
      "2017-2018 Adv Pass Rate    18340 non-null object\n",
      "dtypes: int64(3), object(14)\n",
      "memory usage: 2.5+ MB\n"
     ]
    }
   ],
   "source": [
    "sol.info()"
   ]
  },
  {
   "cell_type": "code",
   "execution_count": 29,
   "metadata": {},
   "outputs": [
    {
     "data": {
      "text/plain": [
       "(19202, 17)"
      ]
     },
     "execution_count": 29,
     "metadata": {},
     "output_type": "execute_result"
    }
   ],
   "source": [
    "sol.shape"
   ]
  },
  {
   "cell_type": "code",
   "execution_count": 30,
   "metadata": {},
   "outputs": [],
   "source": [
    "sol.dtypes\n",
    "sol = sol.rename(columns={'2017-2018 Adv Pass Rate':'2017-2018AdvPassRate'})"
   ]
  },
  {
   "cell_type": "code",
   "execution_count": 31,
   "metadata": {},
   "outputs": [
    {
     "data": {
      "text/plain": [
       "LEVEL                      object\n",
       "Div Num                     int64\n",
       "Div Name                   object\n",
       "Sch Num                     int64\n",
       "Sch Name                   object\n",
       "Sch Type                   object\n",
       "Low Grade                  object\n",
       "High Grade                  int64\n",
       "Subject                    object\n",
       "Grade                      object\n",
       "Test                       object\n",
       "2015-2016 Pass Rate        object\n",
       "2016-2017 Pass Rate        object\n",
       "2017-2018 Pass Rate        object\n",
       "2015-2016 Adv Pass Rate    object\n",
       "2016-2017 Adv Pass Rate    object\n",
       "2017-2018AdvPassRate       object\n",
       "dtype: object"
      ]
     },
     "execution_count": 31,
     "metadata": {},
     "output_type": "execute_result"
    }
   ],
   "source": [
    "sol.dtypes"
   ]
  },
  {
   "cell_type": "code",
   "execution_count": 32,
   "metadata": {},
   "outputs": [
    {
     "data": {
      "text/html": [
       "<div>\n",
       "<style scoped>\n",
       "    .dataframe tbody tr th:only-of-type {\n",
       "        vertical-align: middle;\n",
       "    }\n",
       "\n",
       "    .dataframe tbody tr th {\n",
       "        vertical-align: top;\n",
       "    }\n",
       "\n",
       "    .dataframe thead th {\n",
       "        text-align: right;\n",
       "    }\n",
       "</style>\n",
       "<table border=\"1\" class=\"dataframe\">\n",
       "  <thead>\n",
       "    <tr style=\"text-align: right;\">\n",
       "      <th></th>\n",
       "      <th>Div Num</th>\n",
       "      <th>Sch Num</th>\n",
       "      <th>High Grade</th>\n",
       "    </tr>\n",
       "  </thead>\n",
       "  <tbody>\n",
       "    <tr>\n",
       "      <th>count</th>\n",
       "      <td>19202.000000</td>\n",
       "      <td>19202.000000</td>\n",
       "      <td>19202.000000</td>\n",
       "    </tr>\n",
       "    <tr>\n",
       "      <th>mean</th>\n",
       "      <td>68.054890</td>\n",
       "      <td>573.071659</td>\n",
       "      <td>7.418446</td>\n",
       "    </tr>\n",
       "    <tr>\n",
       "      <th>std</th>\n",
       "      <td>41.673612</td>\n",
       "      <td>559.438653</td>\n",
       "      <td>2.739367</td>\n",
       "    </tr>\n",
       "    <tr>\n",
       "      <th>min</th>\n",
       "      <td>1.000000</td>\n",
       "      <td>10.000000</td>\n",
       "      <td>3.000000</td>\n",
       "    </tr>\n",
       "    <tr>\n",
       "      <th>25%</th>\n",
       "      <td>29.000000</td>\n",
       "      <td>190.000000</td>\n",
       "      <td>5.000000</td>\n",
       "    </tr>\n",
       "    <tr>\n",
       "      <th>50%</th>\n",
       "      <td>68.000000</td>\n",
       "      <td>440.000000</td>\n",
       "      <td>6.000000</td>\n",
       "    </tr>\n",
       "    <tr>\n",
       "      <th>75%</th>\n",
       "      <td>108.000000</td>\n",
       "      <td>780.000000</td>\n",
       "      <td>8.000000</td>\n",
       "    </tr>\n",
       "    <tr>\n",
       "      <th>max</th>\n",
       "      <td>207.000000</td>\n",
       "      <td>9020.000000</td>\n",
       "      <td>12.000000</td>\n",
       "    </tr>\n",
       "  </tbody>\n",
       "</table>\n",
       "</div>"
      ],
      "text/plain": [
       "            Div Num       Sch Num    High Grade\n",
       "count  19202.000000  19202.000000  19202.000000\n",
       "mean      68.054890    573.071659      7.418446\n",
       "std       41.673612    559.438653      2.739367\n",
       "min        1.000000     10.000000      3.000000\n",
       "25%       29.000000    190.000000      5.000000\n",
       "50%       68.000000    440.000000      6.000000\n",
       "75%      108.000000    780.000000      8.000000\n",
       "max      207.000000   9020.000000     12.000000"
      ]
     },
     "execution_count": 32,
     "metadata": {},
     "output_type": "execute_result"
    }
   ],
   "source": [
    "sol.describe()"
   ]
  },
  {
   "cell_type": "code",
   "execution_count": 33,
   "metadata": {},
   "outputs": [
    {
     "name": "stdout",
     "output_type": "stream",
     "text": [
      "  LEVEL  Div Num          Div Name  Sch Num               Sch Name Sch Type  \\\n",
      "0   SCH        1  Accomack County       701  Accawmacke Elementary     Elem   \n",
      "1   SCH        1  Accomack County       701  Accawmacke Elementary     Elem   \n",
      "2   SCH        1  Accomack County       701  Accawmacke Elementary     Elem   \n",
      "3   SCH        1  Accomack County       701  Accawmacke Elementary     Elem   \n",
      "4   SCH        1  Accomack County       701  Accawmacke Elementary     Elem   \n",
      "\n",
      "  Low Grade  High Grade                      Subject             Grade  \\\n",
      "0        PK           5             English: Reading              Gr 3   \n",
      "1        PK           5             English: Reading              Gr 4   \n",
      "2        PK           5             English: Reading              Gr 5   \n",
      "3        PK           5  History and Social Sciences              Gr 5   \n",
      "4        PK           5  History and Social Sciences  Content Specific   \n",
      "\n",
      "              Test 2015-2016 Pass Rate 2016-2017 Pass Rate  \\\n",
      "0  English Reading                  72                  70   \n",
      "1  English Reading                  61                  73   \n",
      "2  English Reading                  71                  67   \n",
      "3          History                   <                   <   \n",
      "4       VA Studies                  88                  85   \n",
      "\n",
      "  2017-2018 Pass Rate 2015-2016 Adv Pass Rate 2016-2017 Adv Pass Rate  \\\n",
      "0                  71                      13                      17   \n",
      "1                  64                      12                      10   \n",
      "2                  65                      20                      15   \n",
      "3                   <                       <                       <   \n",
      "4                  83                      43                      29   \n",
      "\n",
      "  2017-2018AdvPassRate  \n",
      "0                   12  \n",
      "1                   14  \n",
      "2                   13  \n",
      "3                    <  \n",
      "4                   28  \n"
     ]
    }
   ],
   "source": [
    "print(sol.head())"
   ]
  },
  {
   "cell_type": "code",
   "execution_count": 34,
   "metadata": {},
   "outputs": [
    {
     "name": "stdout",
     "output_type": "stream",
     "text": [
      "      LEVEL  Div Num      Div Name  Sch Num         Sch Name Sch Type  \\\n",
      "19197   SCH       98  York County        60  Yorktown Middle   Middle   \n",
      "19198   SCH       98  York County        60  Yorktown Middle   Middle   \n",
      "19199   SCH       98  York County        60  Yorktown Middle   Middle   \n",
      "19200   SCH       98  York County        60  Yorktown Middle   Middle   \n",
      "19201   SCH       98  York County        60  Yorktown Middle   Middle   \n",
      "\n",
      "      Low Grade  High Grade      Subject          Grade         Test  \\\n",
      "19197         6           8  Mathematics           Gr 7  Mathematics   \n",
      "19198         6           8  Mathematics           Gr 8  Mathematics   \n",
      "19199         6           8  Mathematics  End of Course    Algebra I   \n",
      "19200         6           8  Mathematics  End of Course     Geometry   \n",
      "19201         6           8      Science           Gr 8      Science   \n",
      "\n",
      "      2015-2016 Pass Rate 2016-2017 Pass Rate 2017-2018 Pass Rate  \\\n",
      "19197                  78                  80                  76   \n",
      "19198                  80                  77                  79   \n",
      "19199                  93                  95                  96   \n",
      "19200                 100                 100                 100   \n",
      "19201                  84                  85                  87   \n",
      "\n",
      "      2015-2016 Adv Pass Rate 2016-2017 Adv Pass Rate 2017-2018AdvPassRate  \n",
      "19197                       7                      10                    8  \n",
      "19198                       5                       4                    2  \n",
      "19199                       8                       3                    6  \n",
      "19200                      25                      24                   22  \n",
      "19201                       8                      12                    9  \n"
     ]
    }
   ],
   "source": [
    "print(sol.tail())"
   ]
  },
  {
   "cell_type": "markdown",
   "metadata": {},
   "source": []
  },
  {
   "cell_type": "code",
   "execution_count": 35,
   "metadata": {},
   "outputs": [
    {
     "name": "stdout",
     "output_type": "stream",
     "text": [
      "LEVEL                        0\n",
      "Div Num                      0\n",
      "Div Name                     0\n",
      "Sch Num                      0\n",
      "Sch Name                     0\n",
      "Sch Type                     0\n",
      "Low Grade                    0\n",
      "High Grade                   0\n",
      "Subject                      0\n",
      "Grade                        0\n",
      "Test                         0\n",
      "2015-2016 Pass Rate        816\n",
      "2016-2017 Pass Rate        897\n",
      "2017-2018 Pass Rate        862\n",
      "2015-2016 Adv Pass Rate    816\n",
      "2016-2017 Adv Pass Rate    897\n",
      "2017-2018AdvPassRate       862\n",
      "dtype: int64\n"
     ]
    }
   ],
   "source": [
    "print(sol.isnull().sum())"
   ]
  },
  {
   "cell_type": "code",
   "execution_count": 36,
   "metadata": {},
   "outputs": [
    {
     "name": "stdout",
     "output_type": "stream",
     "text": [
      "LEVEL                      19202\n",
      "Div Num                    19202\n",
      "Div Name                   19202\n",
      "Sch Num                    19202\n",
      "Sch Name                   19202\n",
      "Sch Type                   19202\n",
      "Low Grade                  19202\n",
      "High Grade                 19202\n",
      "Subject                    19202\n",
      "Grade                      19202\n",
      "Test                       19202\n",
      "2015-2016 Pass Rate        18386\n",
      "2016-2017 Pass Rate        18305\n",
      "2017-2018 Pass Rate        18340\n",
      "2015-2016 Adv Pass Rate    18386\n",
      "2016-2017 Adv Pass Rate    18305\n",
      "2017-2018AdvPassRate       18340\n",
      "dtype: int64\n"
     ]
    }
   ],
   "source": [
    "print(sol.notnull().sum())"
   ]
  },
  {
   "cell_type": "code",
   "execution_count": 37,
   "metadata": {},
   "outputs": [],
   "source": [
    "sol = sol.rename(columns={'Div Num':'DivNum'})"
   ]
  },
  {
   "cell_type": "code",
   "execution_count": 38,
   "metadata": {},
   "outputs": [],
   "source": [
    "sol = sol.rename(columns={'Div Name':'DivName'})"
   ]
  },
  {
   "cell_type": "markdown",
   "metadata": {},
   "source": [
    "OR sol = sol.rename(columns={'Div Num':'DivNum', 'Div Name':'Div Name'})"
   ]
  },
  {
   "cell_type": "code",
   "execution_count": 39,
   "metadata": {},
   "outputs": [
    {
     "name": "stdout",
     "output_type": "stream",
     "text": [
      "<class 'pandas.core.frame.DataFrame'>\n",
      "RangeIndex: 19202 entries, 0 to 19201\n",
      "Data columns (total 17 columns):\n",
      "LEVEL                      19202 non-null object\n",
      "DivNum                     19202 non-null int64\n",
      "DivName                    19202 non-null object\n",
      "Sch Num                    19202 non-null int64\n",
      "Sch Name                   19202 non-null object\n",
      "Sch Type                   19202 non-null object\n",
      "Low Grade                  19202 non-null object\n",
      "High Grade                 19202 non-null int64\n",
      "Subject                    19202 non-null object\n",
      "Grade                      19202 non-null object\n",
      "Test                       19202 non-null object\n",
      "2015-2016 Pass Rate        18386 non-null object\n",
      "2016-2017 Pass Rate        18305 non-null object\n",
      "2017-2018 Pass Rate        18340 non-null object\n",
      "2015-2016 Adv Pass Rate    18386 non-null object\n",
      "2016-2017 Adv Pass Rate    18305 non-null object\n",
      "2017-2018AdvPassRate       18340 non-null object\n",
      "dtypes: int64(3), object(14)\n",
      "memory usage: 2.5+ MB\n"
     ]
    }
   ],
   "source": [
    "sol.info()"
   ]
  },
  {
   "cell_type": "code",
   "execution_count": 40,
   "metadata": {},
   "outputs": [
    {
     "name": "stdout",
     "output_type": "stream",
     "text": [
      "      LEVEL  DivNum                 DivName  Sch Num  \\\n",
      "2742    SCH     136        Chesapeake City        10   \n",
      "16493   SCH      88    Spotsylvania County       370   \n",
      "15472   SCH      82      Rockingham County      1071   \n",
      "12185   SCH      66  Northumberland County        40   \n",
      "10292   SCH      53         Loudoun County        90   \n",
      "\n",
      "                       Sch Name Sch Type Low Grade  High Grade  \\\n",
      "2742         Oscar Smith Middle   Middle         6           8   \n",
      "16493         Spotsylvania High     High         9          12   \n",
      "15472  John C. Myers Elementary     Elem        PK           5   \n",
      "12185       Northumberland High     High         9          12   \n",
      "10292      Smart's Mill Middle    Middle         6           8   \n",
      "\n",
      "                Subject          Grade             Test 2015-2016 Pass Rate  \\\n",
      "2742   English: Reading           Gr 6  English Reading                  65   \n",
      "16493       Mathematics  End of Course         Geometry                  73   \n",
      "15472  English: Reading           Gr 3  English Reading                  81   \n",
      "12185  English: Reading  End of Course  English Reading                  78   \n",
      "10292       Mathematics  End of Course       Algebra II                 NaN   \n",
      "\n",
      "      2016-2017 Pass Rate 2017-2018 Pass Rate 2015-2016 Adv Pass Rate  \\\n",
      "2742                   61                  66                      10   \n",
      "16493                  67                  56                       3   \n",
      "15472                  69                  63                      18   \n",
      "12185                  84                  81                       2   \n",
      "10292                 100                 100                     NaN   \n",
      "\n",
      "      2016-2017 Adv Pass Rate 2017-2018AdvPassRate  \n",
      "2742                        8                    6  \n",
      "16493                       0                    2  \n",
      "15472                      23                   11  \n",
      "12185                       2                    4  \n",
      "10292                      67                   33  \n"
     ]
    }
   ],
   "source": [
    "print(sol.sample((5)))"
   ]
  },
  {
   "cell_type": "markdown",
   "metadata": {},
   "source": [
    "Use SQUARE BRACKETS to reference the COLUME NAME Test"
   ]
  },
  {
   "cell_type": "code",
   "execution_count": 41,
   "metadata": {},
   "outputs": [
    {
     "data": {
      "text/plain": [
       "array(['English Reading', 'History', 'VA Studies', 'Mathematics',\n",
       "       'Science', 'Writing', 'Geography', 'VA & US History',\n",
       "       'World History I', 'World History II', 'Algebra I', 'Algebra II',\n",
       "       'Geometry', 'Biology', 'Chemistry', 'Earth Science',\n",
       "       'Civics & Econ'], dtype=object)"
      ]
     },
     "execution_count": 41,
     "metadata": {},
     "output_type": "execute_result"
    }
   ],
   "source": [
    "sol['Test'].unique()"
   ]
  },
  {
   "cell_type": "code",
   "execution_count": 42,
   "metadata": {},
   "outputs": [
    {
     "data": {
      "text/plain": [
       "English Reading     5104\n",
       "Mathematics         5024\n",
       "Science             1506\n",
       "VA Studies          1113\n",
       "History             1095\n",
       "Writing              732\n",
       "Algebra I            711\n",
       "Geometry             635\n",
       "Earth Science        460\n",
       "Algebra II           435\n",
       "Civics & Econ        401\n",
       "World History I      384\n",
       "Biology              357\n",
       "VA & US History      329\n",
       "Chemistry            326\n",
       "World History II     316\n",
       "Geography            274\n",
       "Name: Test, dtype: int64"
      ]
     },
     "execution_count": 42,
     "metadata": {},
     "output_type": "execute_result"
    }
   ],
   "source": [
    "sol['Test'].value_counts()"
   ]
  },
  {
   "cell_type": "code",
   "execution_count": 43,
   "metadata": {},
   "outputs": [
    {
     "data": {
      "text/plain": [
       "array([ 5, 12,  8,  7,  4,  6,  3,  9], dtype=int64)"
      ]
     },
     "execution_count": 43,
     "metadata": {},
     "output_type": "execute_result"
    }
   ],
   "source": [
    "sol['High Grade'].unique()"
   ]
  },
  {
   "cell_type": "code",
   "execution_count": 44,
   "metadata": {},
   "outputs": [
    {
     "data": {
      "text/plain": [
       "5     7747\n",
       "8     4469\n",
       "12    4310\n",
       "6     1836\n",
       "7      594\n",
       "4      174\n",
       "3       46\n",
       "9       26\n",
       "Name: High Grade, dtype: int64"
      ]
     },
     "execution_count": 44,
     "metadata": {},
     "output_type": "execute_result"
    }
   ],
   "source": [
    "sol['High Grade'].value_counts()"
   ]
  },
  {
   "cell_type": "code",
   "execution_count": 45,
   "metadata": {},
   "outputs": [],
   "source": [
    "mapping = {'English Reading':0, \n",
    "           'Mathematics':1, \n",
    "           'Science': 2, \n",
    "           'VA Studies': 3, \n",
    "           'History':4, \n",
    "           'Writing': 5, \n",
    "           'Algebra I':6, \n",
    "           'Geometry': 7, \n",
    "           'Earth Science': 8, \n",
    "           'Algebra II':9, \n",
    "           'Civics & Econ': 10, \n",
    "           'World History I': 11, \n",
    "           'Biology': 12, \n",
    "           'VA & US History': 13, \n",
    "           'Chemistry':14, \n",
    "           'World History II':15, \n",
    "           'Geography':16}"
   ]
  },
  {
   "cell_type": "code",
   "execution_count": 46,
   "metadata": {},
   "outputs": [],
   "source": [
    "sol['Test'] = sol.Test.map(mapping)"
   ]
  },
  {
   "cell_type": "code",
   "execution_count": 47,
   "metadata": {},
   "outputs": [
    {
     "data": {
      "text/plain": [
       "array([ 0,  4,  3,  1,  2,  5, 16, 13, 11, 15,  6,  9,  7, 12, 14,  8, 10],\n",
       "      dtype=int64)"
      ]
     },
     "execution_count": 47,
     "metadata": {},
     "output_type": "execute_result"
    }
   ],
   "source": [
    "sol['Test'].unique()"
   ]
  },
  {
   "cell_type": "code",
   "execution_count": 48,
   "metadata": {},
   "outputs": [
    {
     "data": {
      "text/plain": [
       "0     5104\n",
       "1     5024\n",
       "2     1506\n",
       "3     1113\n",
       "4     1095\n",
       "5      732\n",
       "6      711\n",
       "7      635\n",
       "8      460\n",
       "9      435\n",
       "10     401\n",
       "11     384\n",
       "12     357\n",
       "13     329\n",
       "14     326\n",
       "15     316\n",
       "16     274\n",
       "Name: Test, dtype: int64"
      ]
     },
     "execution_count": 48,
     "metadata": {},
     "output_type": "execute_result"
    }
   ],
   "source": [
    "sol['Test'].value_counts()"
   ]
  },
  {
   "cell_type": "code",
   "execution_count": 49,
   "metadata": {},
   "outputs": [],
   "source": [
    "import matplotlib.pyplot as plt"
   ]
  },
  {
   "cell_type": "code",
   "execution_count": 50,
   "metadata": {},
   "outputs": [],
   "source": [
    "sol['Test'] = sol['Test'].astype(int)"
   ]
  },
  {
   "cell_type": "code",
   "execution_count": 54,
   "metadata": {},
   "outputs": [],
   "source": [
    "sol['Test'].plot(kind=\"hist\")\n",
    "plt.show()"
   ]
  },
  {
   "cell_type": "code",
   "execution_count": 114,
   "metadata": {},
   "outputs": [],
   "source": []
  },
  {
   "cell_type": "code",
   "execution_count": null,
   "metadata": {},
   "outputs": [],
   "source": []
  }
 ],
 "metadata": {
  "kernelspec": {
   "display_name": "Python 3",
   "language": "python",
   "name": "python3"
  },
  "language_info": {
   "codemirror_mode": {
    "name": "ipython",
    "version": 3
   },
   "file_extension": ".py",
   "mimetype": "text/x-python",
   "name": "python",
   "nbconvert_exporter": "python",
   "pygments_lexer": "ipython3",
   "version": "3.6.2"
  }
 },
 "nbformat": 4,
 "nbformat_minor": 1
}
