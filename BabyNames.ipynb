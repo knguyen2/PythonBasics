{
 "cells": [
  {
   "cell_type": "markdown",
   "metadata": {
    "collapsed": true
   },
   "source": [
    "Dataset Source --> https://catalog.data.gov/dataset/baby-names-from-social-security-card-applications-national-level-data"
   ]
  },
  {
   "cell_type": "code",
   "execution_count": 4,
   "metadata": {},
   "outputs": [],
   "source": [
    "# import zipfile\n",
    "# import numpy as np\n",
    "# import pandas as pd\n",
    "import matplotlib.pyplot as plt\n",
    "%matplotlib inline"
   ]
  },
  {
   "cell_type": "code",
   "execution_count": 10,
   "metadata": {},
   "outputs": [],
   "source": [
    "# create files from zip -> commented out once done creating to avoid duplication\n",
    "# zipfile.ZipFile('data/names.zip').extractall('data/names')"
   ]
  },
  {
   "cell_type": "code",
   "execution_count": 11,
   "metadata": {},
   "outputs": [
    {
     "data": {
      "text/plain": [
       "['NationalReadMe.pdf',\n 'yob1880.txt',\n 'yob1881.txt',\n 'yob1882.txt',\n 'yob1883.txt',\n 'yob1884.txt',\n 'yob1885.txt',\n 'yob1886.txt',\n 'yob1887.txt',\n 'yob1888.txt',\n 'yob1889.txt',\n 'yob1890.txt',\n 'yob1891.txt',\n 'yob1892.txt',\n 'yob1893.txt',\n 'yob1894.txt',\n 'yob1895.txt',\n 'yob1896.txt',\n 'yob1897.txt',\n 'yob1898.txt',\n 'yob1899.txt',\n 'yob1900.txt',\n 'yob1901.txt',\n 'yob1902.txt',\n 'yob1903.txt',\n 'yob1904.txt',\n 'yob1905.txt',\n 'yob1906.txt',\n 'yob1907.txt',\n 'yob1908.txt',\n 'yob1909.txt',\n 'yob1910.txt',\n 'yob1911.txt',\n 'yob1912.txt',\n 'yob1913.txt',\n 'yob1914.txt',\n 'yob1915.txt',\n 'yob1916.txt',\n 'yob1917.txt',\n 'yob1918.txt',\n 'yob1919.txt',\n 'yob1920.txt',\n 'yob1921.txt',\n 'yob1922.txt',\n 'yob1923.txt',\n 'yob1924.txt',\n 'yob1925.txt',\n 'yob1926.txt',\n 'yob1927.txt',\n 'yob1928.txt',\n 'yob1929.txt',\n 'yob1930.txt',\n 'yob1931.txt',\n 'yob1932.txt',\n 'yob1933.txt',\n 'yob1934.txt',\n 'yob1935.txt',\n 'yob1936.txt',\n 'yob1937.txt',\n 'yob1938.txt',\n 'yob1939.txt',\n 'yob1940.txt',\n 'yob1941.txt',\n 'yob1942.txt',\n 'yob1943.txt',\n 'yob1944.txt',\n 'yob1945.txt',\n 'yob1946.txt',\n 'yob1947.txt',\n 'yob1948.txt',\n 'yob1949.txt',\n 'yob1950.txt',\n 'yob1951.txt',\n 'yob1952.txt',\n 'yob1953.txt',\n 'yob1954.txt',\n 'yob1955.txt',\n 'yob1956.txt',\n 'yob1957.txt',\n 'yob1958.txt',\n 'yob1959.txt',\n 'yob1960.txt',\n 'yob1961.txt',\n 'yob1962.txt',\n 'yob1963.txt',\n 'yob1964.txt',\n 'yob1965.txt',\n 'yob1966.txt',\n 'yob1967.txt',\n 'yob1968.txt',\n 'yob1969.txt',\n 'yob1970.txt',\n 'yob1971.txt',\n 'yob1972.txt',\n 'yob1973.txt',\n 'yob1974.txt',\n 'yob1975.txt',\n 'yob1976.txt',\n 'yob1977.txt',\n 'yob1978.txt',\n 'yob1979.txt',\n 'yob1980.txt',\n 'yob1981.txt',\n 'yob1982.txt',\n 'yob1983.txt',\n 'yob1984.txt',\n 'yob1985.txt',\n 'yob1986.txt',\n 'yob1987.txt',\n 'yob1988.txt',\n 'yob1989.txt',\n 'yob1990.txt',\n 'yob1991.txt',\n 'yob1992.txt',\n 'yob1993.txt',\n 'yob1994.txt',\n 'yob1995.txt',\n 'yob1996.txt',\n 'yob1997.txt',\n 'yob1998.txt',\n 'yob1999.txt',\n 'yob2000.txt',\n 'yob2001.txt',\n 'yob2002.txt',\n 'yob2003.txt',\n 'yob2004.txt',\n 'yob2005.txt',\n 'yob2006.txt',\n 'yob2007.txt',\n 'yob2008.txt',\n 'yob2009.txt',\n 'yob2010.txt',\n 'yob2011.txt',\n 'yob2012.txt',\n 'yob2013.txt',\n 'yob2014.txt',\n 'yob2015.txt',\n 'yob2016.txt',\n 'yob2017.txt']"
      ]
     },
     "execution_count": 11,
     "metadata": {},
     "output_type": "execute_result"
    }
   ],
   "source": [
    "import os\n",
    "os.listdir('data/names')"
   ]
  },
  {
   "cell_type": "code",
   "execution_count": 15,
   "metadata": {},
   "outputs": [
    {
     "data": {
      "text/plain": [
       "['Jessica,F,32117\\n',\n 'Ashley,F,30278\\n',\n 'Emily,F,24149\\n',\n 'Samantha,F,22818\\n',\n 'Sarah,F,22290\\n',\n 'Taylor,F,20733\\n',\n 'Brittany,F,18899\\n',\n 'Amanda,F,18717\\n',\n 'Elizabeth,F,16779\\n',\n 'Megan,F,16579\\n']"
      ]
     },
     "execution_count": 15,
     "metadata": {},
     "output_type": "execute_result"
    }
   ],
   "source": [
    "#open and read a file \n",
    "\n",
    "open('data/names/yob1994.txt','r').readlines()[:10]"
   ]
  },
  {
   "cell_type": "code",
   "execution_count": 21,
   "metadata": {},
   "outputs": [
    {
     "data": {
      "text/html": [
       "<div>\n",
       "<style scoped>\n",
       "    .dataframe tbody tr th:only-of-type {\n",
       "        vertical-align: middle;\n",
       "    }\n",
       "\n",
       "    .dataframe tbody tr th {\n",
       "        vertical-align: top;\n",
       "    }\n",
       "\n",
       "    .dataframe thead th {\n",
       "        text-align: right;\n",
       "    }\n",
       "</style>\n",
       "<table border=\"1\" class=\"dataframe\">\n",
       "  <thead>\n",
       "    <tr style=\"text-align: right;\">\n",
       "      <th></th>\n",
       "      <th>names</th>\n",
       "      <th>sex</th>\n",
       "      <th>number</th>\n",
       "      <th>year</th>\n",
       "    </tr>\n",
       "  </thead>\n",
       "  <tbody>\n",
       "    <tr>\n",
       "      <th>0</th>\n",
       "      <td>Mary</td>\n",
       "      <td>F</td>\n",
       "      <td>7065</td>\n",
       "      <td>1880</td>\n",
       "    </tr>\n",
       "    <tr>\n",
       "      <th>1</th>\n",
       "      <td>Anna</td>\n",
       "      <td>F</td>\n",
       "      <td>2604</td>\n",
       "      <td>1880</td>\n",
       "    </tr>\n",
       "    <tr>\n",
       "      <th>2</th>\n",
       "      <td>Emma</td>\n",
       "      <td>F</td>\n",
       "      <td>2003</td>\n",
       "      <td>1880</td>\n",
       "    </tr>\n",
       "    <tr>\n",
       "      <th>3</th>\n",
       "      <td>Elizabeth</td>\n",
       "      <td>F</td>\n",
       "      <td>1939</td>\n",
       "      <td>1880</td>\n",
       "    </tr>\n",
       "    <tr>\n",
       "      <th>4</th>\n",
       "      <td>Minnie</td>\n",
       "      <td>F</td>\n",
       "      <td>1746</td>\n",
       "      <td>1880</td>\n",
       "    </tr>\n",
       "  </tbody>\n",
       "</table>\n",
       "</div>"
      ],
      "text/plain": [
       "<div>\n",
       "<style scoped>\n",
       "    .dataframe tbody tr th:only-of-type {\n",
       "        vertical-align: middle;\n",
       "    }\n",
       "\n",
       "    .dataframe tbody tr th {\n",
       "        vertical-align: top;\n",
       "    }\n",
       "\n",
       "    .dataframe thead th {\n",
       "        text-align: right;\n",
       "    }\n",
       "</style>\n",
       "<table border=\"1\" class=\"dataframe\">\n",
       "  <thead>\n",
       "    <tr style=\"text-align: right;\">\n",
       "      <th></th>\n",
       "      <th>names</th>\n",
       "      <th>sex</th>\n",
       "      <th>number</th>\n",
       "      <th>year</th>\n",
       "    </tr>\n",
       "  </thead>\n",
       "  <tbody>\n",
       "    <tr>\n",
       "      <th>0</th>\n",
       "      <td>Mary</td>\n",
       "      <td>F</td>\n",
       "      <td>7065</td>\n",
       "      <td>1880</td>\n",
       "    </tr>\n",
       "    <tr>\n",
       "      <th>1</th>\n",
       "      <td>Anna</td>\n",
       "      <td>F</td>\n",
       "      <td>2604</td>\n",
       "      <td>1880</td>\n",
       "    </tr>\n",
       "    <tr>\n",
       "      <th>2</th>\n",
       "      <td>Emma</td>\n",
       "      <td>F</td>\n",
       "      <td>2003</td>\n",
       "      <td>1880</td>\n",
       "    </tr>\n",
       "    <tr>\n",
       "      <th>3</th>\n",
       "      <td>Elizabeth</td>\n",
       "      <td>F</td>\n",
       "      <td>1939</td>\n",
       "      <td>1880</td>\n",
       "    </tr>\n",
       "    <tr>\n",
       "      <th>4</th>\n",
       "      <td>Minnie</td>\n",
       "      <td>F</td>\n",
       "      <td>1746</td>\n",
       "      <td>1880</td>\n",
       "    </tr>\n",
       "  </tbody>\n",
       "</table>\n",
       "</div>"
      ]
     },
     "execution_count": 21,
     "metadata": {},
     "output_type": "execute_result"
    }
   ],
   "source": [
    "#load data from all files\n",
    "\n",
    "\n",
    "names_all=[]\n",
    "for year in range(1880, 2018):\n",
    "    names_all.append(pd.read_csv('data/names/yob{}.txt'.format(year),\n",
    "                                 names=['names','sex','number']))\n",
    "    names_all[-1]['year'] = year\n",
    "    \n",
    "allyears = pd.concat(names_all)\n",
    "\n",
    "allyears.head()"
   ]
  },
  {
   "cell_type": "code",
   "execution_count": null,
   "metadata": {},
   "outputs": [],
   "source": []
  }
 ],
 "metadata": {
  "kernelspec": {
   "display_name": "Python 2",
   "language": "python",
   "name": "python2"
  },
  "language_info": {
   "codemirror_mode": {
    "name": "ipython",
    "version": 2
   },
   "file_extension": ".py",
   "mimetype": "text/x-python",
   "name": "python",
   "nbconvert_exporter": "python",
   "pygments_lexer": "ipython2",
   "version": "2.7.6"
  }
 },
 "nbformat": 4,
 "nbformat_minor": 0
}
