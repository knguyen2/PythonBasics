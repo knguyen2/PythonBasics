{
 "cells": [
  {
   "cell_type": "code",
   "execution_count": 2,
   "metadata": {
    "collapsed": true
   },
   "outputs": [],
   "source": [
    "import pandas as pd\n"
   ]
  },
  {
   "cell_type": "code",
   "execution_count": 3,
   "metadata": {},
   "outputs": [],
   "source": [
    "sol = pd.read_csv('data/2017-2018-school-test-by-test.csv')"
   ]
  },
  {
   "cell_type": "code",
   "execution_count": 4,
   "metadata": {},
   "outputs": [
    {
     "name": "stdout",
     "output_type": "stream",
     "text": [
      "<class 'pandas.core.frame.DataFrame'>\nRangeIndex: 19202 entries, 0 to 19201\nData columns (total 17 columns):\nLEVEL                      19202 non-null object\nDiv Num                    19202 non-null int64\nDiv Name                   19202 non-null object\nSch Num                    19202 non-null int64\nSch Name                   19202 non-null object\nSch Type                   19202 non-null object\nLow Grade                  19202 non-null object\nHigh Grade                 19202 non-null int64\nSubject                    19202 non-null object\nGrade                      19202 non-null object\nTest                       19202 non-null object\n2015-2016 Pass Rate        18386 non-null object\n2016-2017 Pass Rate        18305 non-null object\n2017-2018 Pass Rate        18340 non-null object\n2015-2016 Adv Pass Rate    18386 non-null object\n2016-2017 Adv Pass Rate    18305 non-null object\n2017-2018 Adv Pass Rate    18340 non-null object\ndtypes: int64(3), object(14)\nmemory usage: 2.5+ MB\n"
     ]
    }
   ],
   "source": [
    "sol.info()"
   ]
  },
  {
   "cell_type": "code",
   "execution_count": 5,
   "metadata": {},
   "outputs": [
    {
     "data": {
      "text/plain": [
       "(19202, 17)"
      ]
     },
     "execution_count": 5,
     "metadata": {},
     "output_type": "execute_result"
    }
   ],
   "source": [
    "sol.shape"
   ]
  },
  {
   "cell_type": "code",
   "execution_count": 6,
   "metadata": {},
   "outputs": [],
   "source": [
    "sol.dtypes\n",
    "sol = sol.rename(columns={'2017-2018 Adv Pass Rate':'2017-2018AdvPassRate'})"
   ]
  },
  {
   "cell_type": "code",
   "execution_count": 7,
   "metadata": {},
   "outputs": [
    {
     "data": {
      "text/plain": [
       "LEVEL                      object\nDiv Num                     int64\nDiv Name                   object\nSch Num                     int64\nSch Name                   object\nSch Type                   object\nLow Grade                  object\nHigh Grade                  int64\nSubject                    object\nGrade                      object\nTest                       object\n2015-2016 Pass Rate        object\n2016-2017 Pass Rate        object\n2017-2018 Pass Rate        object\n2015-2016 Adv Pass Rate    object\n2016-2017 Adv Pass Rate    object\n2017-2018AdvPassRate       object\ndtype: object"
      ]
     },
     "execution_count": 7,
     "metadata": {},
     "output_type": "execute_result"
    }
   ],
   "source": [
    "sol.dtypes"
   ]
  },
  {
   "cell_type": "code",
   "execution_count": 8,
   "metadata": {},
   "outputs": [
    {
     "data": {
      "text/html": [
       "<div>\n",
       "<style scoped>\n",
       "    .dataframe tbody tr th:only-of-type {\n",
       "        vertical-align: middle;\n",
       "    }\n",
       "\n",
       "    .dataframe tbody tr th {\n",
       "        vertical-align: top;\n",
       "    }\n",
       "\n",
       "    .dataframe thead th {\n",
       "        text-align: right;\n",
       "    }\n",
       "</style>\n",
       "<table border=\"1\" class=\"dataframe\">\n",
       "  <thead>\n",
       "    <tr style=\"text-align: right;\">\n",
       "      <th></th>\n",
       "      <th>Div Num</th>\n",
       "      <th>Sch Num</th>\n",
       "      <th>High Grade</th>\n",
       "    </tr>\n",
       "  </thead>\n",
       "  <tbody>\n",
       "    <tr>\n",
       "      <th>count</th>\n",
       "      <td>19202.000000</td>\n",
       "      <td>19202.000000</td>\n",
       "      <td>19202.000000</td>\n",
       "    </tr>\n",
       "    <tr>\n",
       "      <th>mean</th>\n",
       "      <td>68.054890</td>\n",
       "      <td>573.071659</td>\n",
       "      <td>7.418446</td>\n",
       "    </tr>\n",
       "    <tr>\n",
       "      <th>std</th>\n",
       "      <td>41.673612</td>\n",
       "      <td>559.438653</td>\n",
       "      <td>2.739367</td>\n",
       "    </tr>\n",
       "    <tr>\n",
       "      <th>min</th>\n",
       "      <td>1.000000</td>\n",
       "      <td>10.000000</td>\n",
       "      <td>3.000000</td>\n",
       "    </tr>\n",
       "    <tr>\n",
       "      <th>25%</th>\n",
       "      <td>29.000000</td>\n",
       "      <td>190.000000</td>\n",
       "      <td>5.000000</td>\n",
       "    </tr>\n",
       "    <tr>\n",
       "      <th>50%</th>\n",
       "      <td>68.000000</td>\n",
       "      <td>440.000000</td>\n",
       "      <td>6.000000</td>\n",
       "    </tr>\n",
       "    <tr>\n",
       "      <th>75%</th>\n",
       "      <td>108.000000</td>\n",
       "      <td>780.000000</td>\n",
       "      <td>8.000000</td>\n",
       "    </tr>\n",
       "    <tr>\n",
       "      <th>max</th>\n",
       "      <td>207.000000</td>\n",
       "      <td>9020.000000</td>\n",
       "      <td>12.000000</td>\n",
       "    </tr>\n",
       "  </tbody>\n",
       "</table>\n",
       "</div>"
      ],
      "text/plain": [
       "<div>\n",
       "<style scoped>\n",
       "    .dataframe tbody tr th:only-of-type {\n",
       "        vertical-align: middle;\n",
       "    }\n",
       "\n",
       "    .dataframe tbody tr th {\n",
       "        vertical-align: top;\n",
       "    }\n",
       "\n",
       "    .dataframe thead th {\n",
       "        text-align: right;\n",
       "    }\n",
       "</style>\n",
       "<table border=\"1\" class=\"dataframe\">\n",
       "  <thead>\n",
       "    <tr style=\"text-align: right;\">\n",
       "      <th></th>\n",
       "      <th>Div Num</th>\n",
       "      <th>Sch Num</th>\n",
       "      <th>High Grade</th>\n",
       "    </tr>\n",
       "  </thead>\n",
       "  <tbody>\n",
       "    <tr>\n",
       "      <th>count</th>\n",
       "      <td>19202.000000</td>\n",
       "      <td>19202.000000</td>\n",
       "      <td>19202.000000</td>\n",
       "    </tr>\n",
       "    <tr>\n",
       "      <th>mean</th>\n",
       "      <td>68.054890</td>\n",
       "      <td>573.071659</td>\n",
       "      <td>7.418446</td>\n",
       "    </tr>\n",
       "    <tr>\n",
       "      <th>std</th>\n",
       "      <td>41.673612</td>\n",
       "      <td>559.438653</td>\n",
       "      <td>2.739367</td>\n",
       "    </tr>\n",
       "    <tr>\n",
       "      <th>min</th>\n",
       "      <td>1.000000</td>\n",
       "      <td>10.000000</td>\n",
       "      <td>3.000000</td>\n",
       "    </tr>\n",
       "    <tr>\n",
       "      <th>25%</th>\n",
       "      <td>29.000000</td>\n",
       "      <td>190.000000</td>\n",
       "      <td>5.000000</td>\n",
       "    </tr>\n",
       "    <tr>\n",
       "      <th>50%</th>\n",
       "      <td>68.000000</td>\n",
       "      <td>440.000000</td>\n",
       "      <td>6.000000</td>\n",
       "    </tr>\n",
       "    <tr>\n",
       "      <th>75%</th>\n",
       "      <td>108.000000</td>\n",
       "      <td>780.000000</td>\n",
       "      <td>8.000000</td>\n",
       "    </tr>\n",
       "    <tr>\n",
       "      <th>max</th>\n",
       "      <td>207.000000</td>\n",
       "      <td>9020.000000</td>\n",
       "      <td>12.000000</td>\n",
       "    </tr>\n",
       "  </tbody>\n",
       "</table>\n",
       "</div>"
      ]
     },
     "execution_count": 8,
     "metadata": {},
     "output_type": "execute_result"
    }
   ],
   "source": [
    "sol.describe()"
   ]
  },
  {
   "cell_type": "code",
   "execution_count": 9,
   "metadata": {},
   "outputs": [
    {
     "name": "stdout",
     "output_type": "stream",
     "text": [
      "  LEVEL  Div Num          Div Name  Sch Num               Sch Name Sch Type  \\\n0   SCH        1  Accomack County       701  Accawmacke Elementary     Elem   \n1   SCH        1  Accomack County       701  Accawmacke Elementary     Elem   \n2   SCH        1  Accomack County       701  Accawmacke Elementary     Elem   \n3   SCH        1  Accomack County       701  Accawmacke Elementary     Elem   \n4   SCH        1  Accomack County       701  Accawmacke Elementary     Elem   \n\n  Low Grade  High Grade                      Subject             Grade  \\\n0        PK           5             English: Reading              Gr 3   \n1        PK           5             English: Reading              Gr 4   \n2        PK           5             English: Reading              Gr 5   \n3        PK           5  History and Social Sciences              Gr 5   \n4        PK           5  History and Social Sciences  Content Specific   \n\n              Test 2015-2016 Pass Rate 2016-2017 Pass Rate  \\\n0  English Reading                  72                  70   \n1  English Reading                  61                  73   \n2  English Reading                  71                  67   \n3          History                   <                   <   \n4       VA Studies                  88                  85   \n\n  2017-2018 Pass Rate 2015-2016 Adv Pass Rate 2016-2017 Adv Pass Rate  \\\n0                  71                      13                      17   \n1                  64                      12                      10   \n2                  65                      20                      15   \n3                   <                       <                       <   \n4                  83                      43                      29   \n\n  2017-2018AdvPassRate  \n0                   12  \n1                   14  \n2                   13  \n3                    <  \n4                   28  \n"
     ]
    }
   ],
   "source": [
    "print(sol.head())"
   ]
  },
  {
   "cell_type": "code",
   "execution_count": 10,
   "metadata": {},
   "outputs": [
    {
     "name": "stdout",
     "output_type": "stream",
     "text": [
      "      LEVEL  Div Num      Div Name  Sch Num         Sch Name Sch Type  \\\n19197   SCH       98  York County        60  Yorktown Middle   Middle   \n19198   SCH       98  York County        60  Yorktown Middle   Middle   \n19199   SCH       98  York County        60  Yorktown Middle   Middle   \n19200   SCH       98  York County        60  Yorktown Middle   Middle   \n19201   SCH       98  York County        60  Yorktown Middle   Middle   \n\n      Low Grade  High Grade      Subject          Grade         Test  \\\n19197         6           8  Mathematics           Gr 7  Mathematics   \n19198         6           8  Mathematics           Gr 8  Mathematics   \n19199         6           8  Mathematics  End of Course    Algebra I   \n19200         6           8  Mathematics  End of Course     Geometry   \n19201         6           8      Science           Gr 8      Science   \n\n      2015-2016 Pass Rate 2016-2017 Pass Rate 2017-2018 Pass Rate  \\\n19197                  78                  80                  76   \n19198                  80                  77                  79   \n19199                  93                  95                  96   \n19200                 100                 100                 100   \n19201                  84                  85                  87   \n\n      2015-2016 Adv Pass Rate 2016-2017 Adv Pass Rate 2017-2018AdvPassRate  \n19197                       7                      10                    8  \n19198                       5                       4                    2  \n19199                       8                       3                    6  \n19200                      25                      24                   22  \n19201                       8                      12                    9  \n"
     ]
    }
   ],
   "source": [
    "print(sol.tail())"
   ]
  },
  {
   "cell_type": "markdown",
   "metadata": {},
   "source": [
    ""
   ]
  },
  {
   "cell_type": "code",
   "execution_count": 11,
   "metadata": {},
   "outputs": [
    {
     "name": "stdout",
     "output_type": "stream",
     "text": [
      "LEVEL                        0\nDiv Num                      0\nDiv Name                     0\nSch Num                      0\nSch Name                     0\nSch Type                     0\nLow Grade                    0\nHigh Grade                   0\nSubject                      0\nGrade                        0\nTest                         0\n2015-2016 Pass Rate        816\n2016-2017 Pass Rate        897\n2017-2018 Pass Rate        862\n2015-2016 Adv Pass Rate    816\n2016-2017 Adv Pass Rate    897\n2017-2018AdvPassRate       862\ndtype: int64\n"
     ]
    }
   ],
   "source": [
    "print(sol.isnull().sum())"
   ]
  },
  {
   "cell_type": "code",
   "execution_count": 12,
   "metadata": {},
   "outputs": [
    {
     "name": "stdout",
     "output_type": "stream",
     "text": [
      "LEVEL                      19202\nDiv Num                    19202\nDiv Name                   19202\nSch Num                    19202\nSch Name                   19202\nSch Type                   19202\nLow Grade                  19202\nHigh Grade                 19202\nSubject                    19202\nGrade                      19202\nTest                       19202\n2015-2016 Pass Rate        18386\n2016-2017 Pass Rate        18305\n2017-2018 Pass Rate        18340\n2015-2016 Adv Pass Rate    18386\n2016-2017 Adv Pass Rate    18305\n2017-2018AdvPassRate       18340\ndtype: int64\n"
     ]
    }
   ],
   "source": [
    "print(sol.notnull().sum())"
   ]
  },
  {
   "cell_type": "code",
   "execution_count": 13,
   "metadata": {},
   "outputs": [],
   "source": [
    "sol = sol.rename(columns={'Div Num':'DivNum'})"
   ]
  },
  {
   "cell_type": "code",
   "execution_count": 14,
   "metadata": {},
   "outputs": [],
   "source": [
    "sol = sol.rename(columns={'Div Name':'DivName'})"
   ]
  },
  {
   "cell_type": "markdown",
   "metadata": {},
   "source": [
    "OR sol = sol.rename(columns={'Div Num':'DivNum', 'Div Name':'Div Name'})"
   ]
  },
  {
   "cell_type": "code",
   "execution_count": 15,
   "metadata": {
    "collapsed": false
   },
   "outputs": [
    {
     "name": "stdout",
     "output_type": "stream",
     "text": [
      "<class 'pandas.core.frame.DataFrame'>\nRangeIndex: 19202 entries, 0 to 19201\nData columns (total 17 columns):\nLEVEL                      19202 non-null object\nDivNum                     19202 non-null int64\nDivName                    19202 non-null object\nSch Num                    19202 non-null int64\nSch Name                   19202 non-null object\nSch Type                   19202 non-null object\nLow Grade                  19202 non-null object\nHigh Grade                 19202 non-null int64\nSubject                    19202 non-null object\nGrade                      19202 non-null object\nTest                       19202 non-null object\n2015-2016 Pass Rate        18386 non-null object\n2016-2017 Pass Rate        18305 non-null object\n2017-2018 Pass Rate        18340 non-null object\n2015-2016 Adv Pass Rate    18386 non-null object\n2016-2017 Adv Pass Rate    18305 non-null object\n2017-2018AdvPassRate       18340 non-null object\ndtypes: int64(3), object(14)\nmemory usage: 2.5+ MB\n"
     ]
    },
    {
     "name": "stdout",
     "output_type": "stream",
     "text": [
      "<class 'pandas.core.frame.DataFrame'>\nRangeIndex: 19202 entries, 0 to 19201\nData columns (total 17 columns):\nLEVEL                      19202 non-null object\nDivNum                     19202 non-null int64\nDivName                    19202 non-null object\nSch Num                    19202 non-null int64\nSch Name                   19202 non-null object\nSch Type                   19202 non-null object\nLow Grade                  19202 non-null object\nHigh Grade                 19202 non-null int64\nSubject                    19202 non-null object\nGrade                      19202 non-null object\nTest                       19202 non-null object\n2015-2016 Pass Rate        18386 non-null object\n2016-2017 Pass Rate        18305 non-null object\n2017-2018 Pass Rate        18340 non-null object\n2015-2016 Adv Pass Rate    18386 non-null object\n2016-2017 Adv Pass Rate    18305 non-null object\n2017-2018AdvPassRate       18340 non-null object\ndtypes: int64(3), object(14)\nmemory usage: 2.5+ MB\n"
     ]
    }
   ],
   "source": [
    "sol.info()"
   ]
  },
  {
   "cell_type": "code",
   "execution_count": 16,
   "metadata": {
    "collapsed": true
   },
   "outputs": [
    {
     "name": "stdout",
     "output_type": "stream",
     "text": [
      "      LEVEL  DivNum               DivName  Sch Num                 Sch Name  \\\n16973   SCH     127         Suffolk City       230  Kilby Shores Elementary   \n16442   SCH      88  Spotsylvania County       503     Riverview Elementary   \n8045    SCH      42       Hanover County       370           Lee Davis High   \n9394    SCH      51     Lancaster County       110         Lancaster Middle   \n5349    SCH      29       Fairfax County      1020                 Lee High   \n\n       Sch Type Low Grade  High Grade           Subject          Grade  \\\n16973      Elem        PK           5  English: Reading           Gr 3   \n16442      Elem        PK           5  English: Reading           Gr 3   \n8045       High         9          12       Mathematics  End of Course   \n9394   Combined         4           8       Mathematics           Gr 4   \n5349       High         9          12       Mathematics           Gr 8   \n\n                  Test 2015-2016 Pass Rate 2016-2017 Pass Rate  \\\n16973  English Reading                  81                  78   \n16442  English Reading                  60                  82   \n8045          Geometry                  80                  79   \n9394       Mathematics                  70                  74   \n5349       Mathematics                   <                 NaN   \n\n      2017-2018 Pass Rate 2015-2016 Adv Pass Rate 2016-2017 Adv Pass Rate  \\\n16973                  75                      16                      19   \n16442                  67                       7                      22   \n8045                   79                       4                       5   \n9394                   89                      17                      18   \n5349                  NaN                       <                     NaN   \n\n      2017-2018AdvPassRate  \n16973                   14  \n16442                   11  \n8045                     1  \n9394                    10  \n5349                   NaN  \n"
     ]
    }
   ],
   "source": [
    "print(sol.sample((5)))"
   ]
  },
  {
   "cell_type": "markdown",
   "metadata": {},
   "source": [
    "Use SQUARE BRACKETS to reference the COLUME NAME Test"
   ]
  },
  {
   "cell_type": "code",
   "execution_count": 17,
   "metadata": {},
   "outputs": [
    {
     "data": {
      "text/plain": [
       "array(['English Reading', 'History', 'VA Studies', 'Mathematics',\n       'Science', 'Writing', 'Geography', 'VA & US History',\n       'World History I', 'World History II', 'Algebra I', 'Algebra II',\n       'Geometry', 'Biology', 'Chemistry', 'Earth Science',\n       'Civics & Econ'], dtype=object)"
      ]
     },
     "execution_count": 17,
     "metadata": {},
     "output_type": "execute_result"
    }
   ],
   "source": [
    "sol['Test'].unique()"
   ]
  },
  {
   "cell_type": "code",
   "execution_count": 18,
   "metadata": {},
   "outputs": [
    {
     "data": {
      "text/plain": [
       "English Reading     5104\nMathematics         5024\nScience             1506\nVA Studies          1113\nHistory             1095\nWriting              732\nAlgebra I            711\nGeometry             635\nEarth Science        460\nAlgebra II           435\nCivics & Econ        401\nWorld History I      384\nBiology              357\nVA & US History      329\nChemistry            326\nWorld History II     316\nGeography            274\nName: Test, dtype: int64"
      ]
     },
     "execution_count": 18,
     "metadata": {},
     "output_type": "execute_result"
    }
   ],
   "source": [
    "sol['Test'].value_counts()"
   ]
  },
  {
   "cell_type": "code",
   "execution_count": 19,
   "metadata": {},
   "outputs": [
    {
     "data": {
      "text/plain": [
       "array([ 5, 12,  8,  7,  4,  6,  3,  9], dtype=int64)"
      ]
     },
     "execution_count": 19,
     "metadata": {},
     "output_type": "execute_result"
    }
   ],
   "source": [
    "sol['High Grade'].unique()"
   ]
  },
  {
   "cell_type": "code",
   "execution_count": 21,
   "metadata": {},
   "outputs": [
    {
     "data": {
      "text/plain": [
       "5     7747\n8     4469\n12    4310\n6     1836\n7      594\n4      174\n3       46\n9       26\nName: High Grade, dtype: int64"
      ]
     },
     "execution_count": 21,
     "metadata": {},
     "output_type": "execute_result"
    }
   ],
   "source": [
    "sol['High Grade'].value_counts()"
   ]
  },
  {
   "cell_type": "code",
   "execution_count": 23,
   "metadata": {},
   "outputs": [],
   "source": [
    "mapping = {'English Reading':0, \n",
    "           'Mathematics':1, \n",
    "           'Science': 2, \n",
    "           'VA Studies': 3, \n",
    "           'History':4, \n",
    "           'Writing': 5, \n",
    "           'Algebra I':6, \n",
    "           'Geometry': 7, \n",
    "           'Earth Science': 8, \n",
    "           'Algebra II':9, \n",
    "           'Civics & Econ': 10, \n",
    "           'World History I': 11, \n",
    "           'Biology': 12, \n",
    "           'VA & US History': 13, \n",
    "           'Chemistry':14, \n",
    "           'World History II':15, \n",
    "           'Geography':16}"
   ]
  },
  {
   "cell_type": "code",
   "execution_count": 24,
   "metadata": {},
   "outputs": [],
   "source": [
    "sol['Test'] = sol.Test.map(mapping)"
   ]
  },
  {
   "cell_type": "code",
   "execution_count": 25,
   "metadata": {},
   "outputs": [
    {
     "data": {
      "text/plain": [
       "array([ 0,  4,  3,  1,  2,  5, 16, 13, 11, 15,  6,  9,  7, 12, 14,  8, 10],\n      dtype=int64)"
      ]
     },
     "execution_count": 25,
     "metadata": {},
     "output_type": "execute_result"
    }
   ],
   "source": [
    "sol['Test'].unique()"
   ]
  },
  {
   "cell_type": "code",
   "execution_count": 26,
   "metadata": {},
   "outputs": [
    {
     "data": {
      "text/plain": [
       "0     5104\n1     5024\n2     1506\n3     1113\n4     1095\n5      732\n6      711\n7      635\n8      460\n9      435\n10     401\n11     384\n12     357\n13     329\n14     326\n15     316\n16     274\nName: Test, dtype: int64"
      ]
     },
     "execution_count": 26,
     "metadata": {},
     "output_type": "execute_result"
    }
   ],
   "source": [
    "sol['Test'].value_counts()"
   ]
  },
  {
   "cell_type": "code",
   "execution_count": 28,
   "metadata": {},
   "outputs": [],
   "source": [
    "import matplotlib.pyplot as plt"
   ]
  },
  {
   "cell_type": "code",
   "execution_count": 29,
   "metadata": {},
   "outputs": [],
   "source": [
    "sol['Test'] = sol['Test'].astype(int)"
   ]
  },
  {
   "cell_type": "code",
   "execution_count": 30,
   "metadata": {},
   "outputs": [],
   "source": [
    "sol['Test'].plot(kind='hist')\n",
    "plt.show()"
   ]
  },
  {
   "cell_type": "code",
   "execution_count": 31,
   "metadata": {},
   "outputs": [],
   "source": []
  },
  {
   "cell_type": "code",
   "execution_count": null,
   "metadata": {},
   "outputs": [],
   "source": []
  }
 ],
 "metadata": {
  "kernelspec": {
   "display_name": "Python 2",
   "language": "python",
   "name": "python2"
  },
  "language_info": {
   "codemirror_mode": {
    "name": "ipython",
    "version": 2
   },
   "file_extension": ".py",
   "mimetype": "text/x-python",
   "name": "python",
   "nbconvert_exporter": "python",
   "pygments_lexer": "ipython2",
   "version": "2.7.6"
  }
 },
 "nbformat": 4,
 "nbformat_minor": 0
}
