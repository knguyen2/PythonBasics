{
 "cells": [
  {
   "cell_type": "code",
   "execution_count": 13,
   "metadata": {
    "collapsed": true
   },
   "outputs": [],
   "source": [
    "import pandas as pd\n"
   ]
  },
  {
   "cell_type": "code",
   "execution_count": 14,
   "metadata": {},
   "outputs": [],
   "source": [
    "sol = pd.read_csv('2017-2018-school-test-by-test.csv')"
   ]
  },
  {
   "cell_type": "code",
   "execution_count": 15,
   "metadata": {},
   "outputs": [
    {
     "name": "stdout",
     "output_type": "stream",
     "text": [
      "<class 'pandas.core.frame.DataFrame'>\nRangeIndex: 19202 entries, 0 to 19201\nData columns (total 17 columns):\nLEVEL                      19202 non-null object\nDiv Num                    19202 non-null int64\nDiv Name                   19202 non-null object\nSch Num                    19202 non-null int64\nSch Name                   19202 non-null object\nSch Type                   19202 non-null object\nLow Grade                  19202 non-null object\nHigh Grade                 19202 non-null int64\nSubject                    19202 non-null object\nGrade                      19202 non-null object\nTest                       19202 non-null object\n2015-2016 Pass Rate        18386 non-null object\n2016-2017 Pass Rate        18305 non-null object\n2017-2018 Pass Rate        18340 non-null object\n2015-2016 Adv Pass Rate    18386 non-null object\n2016-2017 Adv Pass Rate    18305 non-null object\n2017-2018 Adv Pass Rate    18340 non-null object\ndtypes: int64(3), object(14)\nmemory usage: 2.5+ MB\n"
     ]
    }
   ],
   "source": [
    "sol.info()"
   ]
  },
  {
   "cell_type": "code",
   "execution_count": 16,
   "metadata": {},
   "outputs": [
    {
     "data": {
      "text/plain": [
       "(19202, 17)"
      ]
     },
     "execution_count": 16,
     "metadata": {},
     "output_type": "execute_result"
    }
   ],
   "source": [
    "sol.shape"
   ]
  },
  {
   "cell_type": "code",
   "execution_count": 17,
   "metadata": {},
   "outputs": [],
   "source": [
    "sol.dtypes\n",
    "sol = sol.rename(columns={'2017-2018 Adv Pass Rate':'2017-2018AdvPassRate'})"
   ]
  },
  {
   "cell_type": "code",
   "execution_count": 18,
   "metadata": {},
   "outputs": [
    {
     "data": {
      "text/plain": [
       "LEVEL                      object\nDiv Num                     int64\nDiv Name                   object\nSch Num                     int64\nSch Name                   object\nSch Type                   object\nLow Grade                  object\nHigh Grade                  int64\nSubject                    object\nGrade                      object\nTest                       object\n2015-2016 Pass Rate        object\n2016-2017 Pass Rate        object\n2017-2018 Pass Rate        object\n2015-2016 Adv Pass Rate    object\n2016-2017 Adv Pass Rate    object\n2017-2018AdvPassRate       object\ndtype: object"
      ]
     },
     "execution_count": 18,
     "metadata": {},
     "output_type": "execute_result"
    }
   ],
   "source": [
    "sol.dtypes"
   ]
  },
  {
   "cell_type": "code",
   "execution_count": 19,
   "metadata": {},
   "outputs": [
    {
     "data": {
      "text/html": [
       "<div>\n",
       "<style scoped>\n",
       "    .dataframe tbody tr th:only-of-type {\n",
       "        vertical-align: middle;\n",
       "    }\n",
       "\n",
       "    .dataframe tbody tr th {\n",
       "        vertical-align: top;\n",
       "    }\n",
       "\n",
       "    .dataframe thead th {\n",
       "        text-align: right;\n",
       "    }\n",
       "</style>\n",
       "<table border=\"1\" class=\"dataframe\">\n",
       "  <thead>\n",
       "    <tr style=\"text-align: right;\">\n",
       "      <th></th>\n",
       "      <th>Div Num</th>\n",
       "      <th>Sch Num</th>\n",
       "      <th>High Grade</th>\n",
       "    </tr>\n",
       "  </thead>\n",
       "  <tbody>\n",
       "    <tr>\n",
       "      <th>count</th>\n",
       "      <td>19202.000000</td>\n",
       "      <td>19202.000000</td>\n",
       "      <td>19202.000000</td>\n",
       "    </tr>\n",
       "    <tr>\n",
       "      <th>mean</th>\n",
       "      <td>68.054890</td>\n",
       "      <td>573.071659</td>\n",
       "      <td>7.418446</td>\n",
       "    </tr>\n",
       "    <tr>\n",
       "      <th>std</th>\n",
       "      <td>41.673612</td>\n",
       "      <td>559.438653</td>\n",
       "      <td>2.739367</td>\n",
       "    </tr>\n",
       "    <tr>\n",
       "      <th>min</th>\n",
       "      <td>1.000000</td>\n",
       "      <td>10.000000</td>\n",
       "      <td>3.000000</td>\n",
       "    </tr>\n",
       "    <tr>\n",
       "      <th>25%</th>\n",
       "      <td>29.000000</td>\n",
       "      <td>190.000000</td>\n",
       "      <td>5.000000</td>\n",
       "    </tr>\n",
       "    <tr>\n",
       "      <th>50%</th>\n",
       "      <td>68.000000</td>\n",
       "      <td>440.000000</td>\n",
       "      <td>6.000000</td>\n",
       "    </tr>\n",
       "    <tr>\n",
       "      <th>75%</th>\n",
       "      <td>108.000000</td>\n",
       "      <td>780.000000</td>\n",
       "      <td>8.000000</td>\n",
       "    </tr>\n",
       "    <tr>\n",
       "      <th>max</th>\n",
       "      <td>207.000000</td>\n",
       "      <td>9020.000000</td>\n",
       "      <td>12.000000</td>\n",
       "    </tr>\n",
       "  </tbody>\n",
       "</table>\n",
       "</div>"
      ],
      "text/plain": [
       "<div>\n",
       "<style scoped>\n",
       "    .dataframe tbody tr th:only-of-type {\n",
       "        vertical-align: middle;\n",
       "    }\n",
       "\n",
       "    .dataframe tbody tr th {\n",
       "        vertical-align: top;\n",
       "    }\n",
       "\n",
       "    .dataframe thead th {\n",
       "        text-align: right;\n",
       "    }\n",
       "</style>\n",
       "<table border=\"1\" class=\"dataframe\">\n",
       "  <thead>\n",
       "    <tr style=\"text-align: right;\">\n",
       "      <th></th>\n",
       "      <th>Div Num</th>\n",
       "      <th>Sch Num</th>\n",
       "      <th>High Grade</th>\n",
       "    </tr>\n",
       "  </thead>\n",
       "  <tbody>\n",
       "    <tr>\n",
       "      <th>count</th>\n",
       "      <td>19202.000000</td>\n",
       "      <td>19202.000000</td>\n",
       "      <td>19202.000000</td>\n",
       "    </tr>\n",
       "    <tr>\n",
       "      <th>mean</th>\n",
       "      <td>68.054890</td>\n",
       "      <td>573.071659</td>\n",
       "      <td>7.418446</td>\n",
       "    </tr>\n",
       "    <tr>\n",
       "      <th>std</th>\n",
       "      <td>41.673612</td>\n",
       "      <td>559.438653</td>\n",
       "      <td>2.739367</td>\n",
       "    </tr>\n",
       "    <tr>\n",
       "      <th>min</th>\n",
       "      <td>1.000000</td>\n",
       "      <td>10.000000</td>\n",
       "      <td>3.000000</td>\n",
       "    </tr>\n",
       "    <tr>\n",
       "      <th>25%</th>\n",
       "      <td>29.000000</td>\n",
       "      <td>190.000000</td>\n",
       "      <td>5.000000</td>\n",
       "    </tr>\n",
       "    <tr>\n",
       "      <th>50%</th>\n",
       "      <td>68.000000</td>\n",
       "      <td>440.000000</td>\n",
       "      <td>6.000000</td>\n",
       "    </tr>\n",
       "    <tr>\n",
       "      <th>75%</th>\n",
       "      <td>108.000000</td>\n",
       "      <td>780.000000</td>\n",
       "      <td>8.000000</td>\n",
       "    </tr>\n",
       "    <tr>\n",
       "      <th>max</th>\n",
       "      <td>207.000000</td>\n",
       "      <td>9020.000000</td>\n",
       "      <td>12.000000</td>\n",
       "    </tr>\n",
       "  </tbody>\n",
       "</table>\n",
       "</div>"
      ]
     },
     "execution_count": 19,
     "metadata": {},
     "output_type": "execute_result"
    }
   ],
   "source": [
    "sol.describe()"
   ]
  },
  {
   "cell_type": "code",
   "execution_count": 20,
   "metadata": {},
   "outputs": [
    {
     "name": "stdout",
     "output_type": "stream",
     "text": [
      "  LEVEL  Div Num          Div Name  Sch Num               Sch Name Sch Type  \\\n0   SCH        1  Accomack County       701  Accawmacke Elementary     Elem   \n1   SCH        1  Accomack County       701  Accawmacke Elementary     Elem   \n2   SCH        1  Accomack County       701  Accawmacke Elementary     Elem   \n3   SCH        1  Accomack County       701  Accawmacke Elementary     Elem   \n4   SCH        1  Accomack County       701  Accawmacke Elementary     Elem   \n\n  Low Grade  High Grade                      Subject             Grade  \\\n0        PK           5             English: Reading              Gr 3   \n1        PK           5             English: Reading              Gr 4   \n2        PK           5             English: Reading              Gr 5   \n3        PK           5  History and Social Sciences              Gr 5   \n4        PK           5  History and Social Sciences  Content Specific   \n\n              Test 2015-2016 Pass Rate 2016-2017 Pass Rate  \\\n0  English Reading                  72                  70   \n1  English Reading                  61                  73   \n2  English Reading                  71                  67   \n3          History                   <                   <   \n4       VA Studies                  88                  85   \n\n  2017-2018 Pass Rate 2015-2016 Adv Pass Rate 2016-2017 Adv Pass Rate  \\\n0                  71                      13                      17   \n1                  64                      12                      10   \n2                  65                      20                      15   \n3                   <                       <                       <   \n4                  83                      43                      29   \n\n  2017-2018AdvPassRate  \n0                   12  \n1                   14  \n2                   13  \n3                    <  \n4                   28  \n"
     ]
    }
   ],
   "source": [
    "print(sol.head())"
   ]
  },
  {
   "cell_type": "code",
   "execution_count": 21,
   "metadata": {},
   "outputs": [
    {
     "name": "stdout",
     "output_type": "stream",
     "text": [
      "      LEVEL  Div Num      Div Name  Sch Num         Sch Name Sch Type  \\\n19197   SCH       98  York County        60  Yorktown Middle   Middle   \n19198   SCH       98  York County        60  Yorktown Middle   Middle   \n19199   SCH       98  York County        60  Yorktown Middle   Middle   \n19200   SCH       98  York County        60  Yorktown Middle   Middle   \n19201   SCH       98  York County        60  Yorktown Middle   Middle   \n\n      Low Grade  High Grade      Subject          Grade         Test  \\\n19197         6           8  Mathematics           Gr 7  Mathematics   \n19198         6           8  Mathematics           Gr 8  Mathematics   \n19199         6           8  Mathematics  End of Course    Algebra I   \n19200         6           8  Mathematics  End of Course     Geometry   \n19201         6           8      Science           Gr 8      Science   \n\n      2015-2016 Pass Rate 2016-2017 Pass Rate 2017-2018 Pass Rate  \\\n19197                  78                  80                  76   \n19198                  80                  77                  79   \n19199                  93                  95                  96   \n19200                 100                 100                 100   \n19201                  84                  85                  87   \n\n      2015-2016 Adv Pass Rate 2016-2017 Adv Pass Rate 2017-2018AdvPassRate  \n19197                       7                      10                    8  \n19198                       5                       4                    2  \n19199                       8                       3                    6  \n19200                      25                      24                   22  \n19201                       8                      12                    9  \n"
     ]
    }
   ],
   "source": [
    "print(sol.tail())"
   ]
  },
  {
   "cell_type": "markdown",
   "metadata": {},
   "source": [
    "print(sol.sample(5))"
   ]
  },
  {
   "cell_type": "code",
   "execution_count": 23,
   "metadata": {},
   "outputs": [
    {
     "name": "stdout",
     "output_type": "stream",
     "text": [
      "LEVEL                        0\nDiv Num                      0\nDiv Name                     0\nSch Num                      0\nSch Name                     0\nSch Type                     0\nLow Grade                    0\nHigh Grade                   0\nSubject                      0\nGrade                        0\nTest                         0\n2015-2016 Pass Rate        816\n2016-2017 Pass Rate        897\n2017-2018 Pass Rate        862\n2015-2016 Adv Pass Rate    816\n2016-2017 Adv Pass Rate    897\n2017-2018AdvPassRate       862\ndtype: int64\n"
     ]
    }
   ],
   "source": [
    "print(sol.isnull().sum())"
   ]
  },
  {
   "cell_type": "code",
   "execution_count": 24,
   "metadata": {},
   "outputs": [
    {
     "name": "stdout",
     "output_type": "stream",
     "text": [
      "LEVEL                      19202\nDiv Num                    19202\nDiv Name                   19202\nSch Num                    19202\nSch Name                   19202\nSch Type                   19202\nLow Grade                  19202\nHigh Grade                 19202\nSubject                    19202\nGrade                      19202\nTest                       19202\n2015-2016 Pass Rate        18386\n2016-2017 Pass Rate        18305\n2017-2018 Pass Rate        18340\n2015-2016 Adv Pass Rate    18386\n2016-2017 Adv Pass Rate    18305\n2017-2018AdvPassRate       18340\ndtype: int64\n"
     ]
    }
   ],
   "source": [
    "print(sol.notnull().sum())"
   ]
  },
  {
   "cell_type": "code",
   "execution_count": 27,
   "metadata": {},
   "outputs": [],
   "source": [
    "sol = sol.rename(columns={'Div Num':'DivNum'})"
   ]
  },
  {
   "cell_type": "code",
   "execution_count": 26,
   "metadata": {},
   "outputs": [],
   "source": [
    "sol = sol.rename(columns={'Div Name':'DivName'})"
   ]
  },
  {
   "cell_type": "markdown",
   "metadata": {},
   "source": [
    "OR sol = sol.rename(columns={'Div Num':'DivNum', 'Div Name':'Div Name'})"
   ]
  },
  {
   "cell_type": "code",
   "execution_count": 32,
   "metadata": {
    "collapsed": false
   },
   "outputs": [
    {
     "name": "stdout",
     "output_type": "stream",
     "text": [
      "<class 'pandas.core.frame.DataFrame'>\nRangeIndex: 19202 entries, 0 to 19201\nData columns (total 17 columns):\nLEVEL                      19202 non-null object\nDivNum                     19202 non-null int64\nDivName                    19202 non-null object\nSch Num                    19202 non-null int64\nSch Name                   19202 non-null object\nSch Type                   19202 non-null object\nLow Grade                  19202 non-null object\nHigh Grade                 19202 non-null int64\nSubject                    19202 non-null object\nGrade                      19202 non-null object\nTest                       19202 non-null object\n2015-2016 Pass Rate        18386 non-null object\n2016-2017 Pass Rate        18305 non-null object\n2017-2018 Pass Rate        18340 non-null object\n2015-2016 Adv Pass Rate    18386 non-null object\n2016-2017 Adv Pass Rate    18305 non-null object\n2017-2018AdvPassRate       18340 non-null object\ndtypes: int64(3), object(14)\nmemory usage: 2.5+ MB\n"
     ]
    }
   ],
   "source": [
    "sol.info()"
   ]
  },
  {
   "cell_type": "code",
   "execution_count": 34,
   "metadata": {
    "collapsed": true
   },
   "outputs": [
    {
     "name": "stdout",
     "output_type": "stream",
     "text": [
      "      LEVEL  DivNum                 DivName  Sch Num  \\\n109     SCH       1        Accomack County       590   \n2261    SCH      18         Carroll County      1210   \n7876    SCH     112           Hampton City        50   \n5331    SCH      29         Fairfax County      1970   \n13928   SCH      75  Prince William County       310   \n\n                          Sch Name Sch Type Low Grade  High Grade  \\\n109         Pungoteague Elementary     Elem        PK           5   \n2261         Gladeville Elementary     Elem        PK           5   \n7876                  Phoebus High     High         9          12   \n5331       Laurel Ridge Elementary     Elem        PK           6   \n13928  Ronald Wilson Reagan Middle   Middle         6           8   \n\n                           Subject             Grade              Test  \\\n109    History and Social Sciences  Content Specific        VA Studies   \n2261              English: Reading              Gr 4   English Reading   \n7876   History and Social Sciences     End of Course  World History II   \n5331              English: Reading              Gr 3   English Reading   \n13928                  Mathematics              Gr 7       Mathematics   \n\n      2015-2016 Pass Rate 2016-2017 Pass Rate 2017-2018 Pass Rate  \\\n109                    89                  83                  90   \n2261                   74                  75                  78   \n7876                   88                  72                  69   \n5331                   88                  88                  76   \n13928                  74                  66                  77   \n\n      2015-2016 Adv Pass Rate 2016-2017 Adv Pass Rate 2017-2018AdvPassRate  \n109                        43                      25                   38  \n2261                       12                      16                   16  \n7876                       19                      11                    5  \n5331                       25                      35                   18  \n13928                       3                       3                    3  \n"
     ]
    }
   ],
   "source": [
    "print(sol.sample((5)))"
   ]
  },
  {
   "cell_type": "markdown",
   "metadata": {},
   "source": [
    "Use SQUARE BRACKETS to reference the COLUME NAME Test"
   ]
  },
  {
   "cell_type": "code",
   "execution_count": 35,
   "metadata": {},
   "outputs": [
    {
     "data": {
      "text/plain": [
       "array(['English Reading', 'History', 'VA Studies', 'Mathematics',\n       'Science', 'Writing', 'Geography', 'VA & US History',\n       'World History I', 'World History II', 'Algebra I', 'Algebra II',\n       'Geometry', 'Biology', 'Chemistry', 'Earth Science',\n       'Civics & Econ'], dtype=object)"
      ]
     },
     "execution_count": 35,
     "metadata": {},
     "output_type": "execute_result"
    }
   ],
   "source": [
    "sol['Test'].unique()"
   ]
  },
  {
   "cell_type": "code",
   "execution_count": 37,
   "metadata": {},
   "outputs": [
    {
     "data": {
      "text/plain": [
       "English Reading     5104\nMathematics         5024\nScience             1506\nVA Studies          1113\nHistory             1095\nWriting              732\nAlgebra I            711\nGeometry             635\nEarth Science        460\nAlgebra II           435\nCivics & Econ        401\nWorld History I      384\nBiology              357\nVA & US History      329\nChemistry            326\nWorld History II     316\nGeography            274\nName: Test, dtype: int64"
      ]
     },
     "execution_count": 37,
     "metadata": {},
     "output_type": "execute_result"
    }
   ],
   "source": [
    "sol['Test'].value_counts()"
   ]
  },
  {
   "cell_type": "code",
   "execution_count": 39,
   "metadata": {},
   "outputs": [
    {
     "data": {
      "text/plain": [
       "array([ 5, 12,  8,  7,  4,  6,  3,  9], dtype=int64)"
      ]
     },
     "execution_count": 39,
     "metadata": {},
     "output_type": "execute_result"
    }
   ],
   "source": [
    "sol['High Grade'].unique()"
   ]
  },
  {
   "cell_type": "code",
   "execution_count": 40,
   "metadata": {},
   "outputs": [
    {
     "data": {
      "text/plain": [
       "5     7747\n8     4469\n12    4310\n6     1836\n7      594\n4      174\n3       46\n9       26\nName: High Grade, dtype: int64"
      ]
     },
     "execution_count": 40,
     "metadata": {},
     "output_type": "execute_result"
    }
   ],
   "source": [
    "sol['High Grade'].value_counts()"
   ]
  },
  {
   "cell_type": "code",
   "execution_count": 42,
   "metadata": {},
   "outputs": [],
   "source": [
    "mapping = {'English Reading':'ER', \n",
    "           'Mathematics':'MA', \n",
    "           'Science': 'SC', \n",
    "           'VA Studies': 'VA', \n",
    "           'History':'HS', \n",
    "           'Writing': 'WR', \n",
    "           'Algebra I':'A1', \n",
    "           'Geometry': 'GO', \n",
    "           'Earth Science': 'ES', \n",
    "           'Algebra II':'A2', \n",
    "           'Civics & Econ': 'CE', \n",
    "           'World History I': 'WH', \n",
    "           'Biology': 'BO', \n",
    "           'VA & US History': 'VH', \n",
    "           'Chemistry':'CH', \n",
    "           'World History II':'WW', \n",
    "           'Geography':'GE'}"
   ]
  },
  {
   "cell_type": "code",
   "execution_count": 43,
   "metadata": {},
   "outputs": [],
   "source": [
    "sol['Test'] = sol.Test.map(mapping)"
   ]
  },
  {
   "cell_type": "code",
   "execution_count": 45,
   "metadata": {},
   "outputs": [
    {
     "data": {
      "text/plain": [
       "array(['ER', 'HS', 'VA', 'MA', 'SC', 'WR', 'GE', 'VH', 'WH', 'WW', 'A1',\n       'A2', 'GO', 'BO', 'CH', 'ES', 'CE'], dtype=object)"
      ]
     },
     "execution_count": 45,
     "metadata": {},
     "output_type": "execute_result"
    }
   ],
   "source": [
    "sol['Test'].unique()"
   ]
  },
  {
   "cell_type": "code",
   "execution_count": 47,
   "metadata": {},
   "outputs": [
    {
     "data": {
      "text/plain": [
       "ER    5104\nMA    5024\nSC    1506\nVA    1113\nHS    1095\nWR     732\nA1     711\nGO     635\nES     460\nA2     435\nCE     401\nWH     384\nBO     357\nVH     329\nCH     326\nWW     316\nGE     274\nName: Test, dtype: int64"
      ]
     },
     "execution_count": 47,
     "metadata": {},
     "output_type": "execute_result"
    }
   ],
   "source": [
    "sol['Test'].value_counts()"
   ]
  },
  {
   "cell_type": "code",
   "execution_count": null,
   "metadata": {},
   "outputs": [],
   "source": []
  }
 ],
 "metadata": {
  "kernelspec": {
   "display_name": "Python 2",
   "language": "python",
   "name": "python2"
  },
  "language_info": {
   "codemirror_mode": {
    "name": "ipython",
    "version": 2
   },
   "file_extension": ".py",
   "mimetype": "text/x-python",
   "name": "python",
   "nbconvert_exporter": "python",
   "pygments_lexer": "ipython2",
   "version": "2.7.6"
  }
 },
 "nbformat": 4,
 "nbformat_minor": 0
}
